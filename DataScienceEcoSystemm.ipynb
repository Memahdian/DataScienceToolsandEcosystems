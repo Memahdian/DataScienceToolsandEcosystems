{
 "cells": [
  {
   "cell_type": "markdown",
   "id": "8dcf04c8",
   "metadata": {},
   "source": [
    "# Data Science Tool and Ecosystems"
   ]
  },
  {
   "cell_type": "markdown",
   "id": "221d2f90",
   "metadata": {},
   "source": [
    "In this notebook, Data Science Tools and Ecosystem are summarized.\n",
    "\n"
   ]
  },
  {
   "cell_type": "markdown",
   "id": "43784819",
   "metadata": {},
   "source": [
    "Some of the popular languages that Data Scientists use are:\n",
    "- Python\n",
    "- Julia\n",
    "- R\n",
    "- Scala\n",
    "- SQL\n",
    "- C++"
   ]
  },
  {
   "cell_type": "markdown",
   "id": "ef6e9170",
   "metadata": {},
   "source": [
    "**Objective:** \n",
    "- list popular data science languages\n",
    "- ist popular data science tools\n",
    "- list populat data science libraries"
   ]
  },
  {
   "cell_type": "markdown",
   "id": "b3159150",
   "metadata": {},
   "source": [
    "Some of the commonly used libraries used by Data Scientists include:\n",
    "- Matplotlib\n",
    "- Seaborn\n",
    "- scikit-learn\n",
    "- Keras\n",
    "- TensorFlow\n",
    "- Pytorch"
   ]
  },
  {
   "cell_type": "markdown",
   "id": "bdf9f702",
   "metadata": {},
   "source": [
    "| Data Science Tools |\n",
    "|-------------------|\n",
    "| Knime |\n",
    "| Orange |\n",
    "| Apache Spark |"
   ]
  },
  {
   "cell_type": "markdown",
   "id": "bee788b0",
   "metadata": {},
   "source": [
    "### Below are a few examples of evaluating arithmetic expressions in Python.\n"
   ]
  },
  {
   "cell_type": "code",
   "execution_count": 5,
   "id": "f85f395f",
   "metadata": {},
   "outputs": [
    {
     "data": {
      "text/plain": [
       "17"
      ]
     },
     "execution_count": 5,
     "metadata": {},
     "output_type": "execute_result"
    }
   ],
   "source": [
    "#This is a simple arithmetic expression to multiply then add integers.\n",
    "(3*4) + 5"
   ]
  },
  {
   "cell_type": "code",
   "execution_count": 7,
   "id": "50eb93c2",
   "metadata": {},
   "outputs": [
    {
     "name": "stdout",
     "output_type": "stream",
     "text": [
      "3.3333333333333335\n"
     ]
    }
   ],
   "source": [
    "#This will convert 200 minutes to hours by diving by 60\n",
    "m = 200\n",
    "h = m/ 60\n",
    "print(h)"
   ]
  },
  {
   "cell_type": "markdown",
   "id": "441fb575",
   "metadata": {},
   "source": [
    "## Author \n",
    "Mehrab Mahdian"
   ]
  },
  {
   "cell_type": "code",
   "execution_count": null,
   "id": "917c762a",
   "metadata": {},
   "outputs": [],
   "source": []
  }
 ],
 "metadata": {
  "kernelspec": {
   "display_name": "Python 3 (ipykernel)",
   "language": "python",
   "name": "python3"
  },
  "language_info": {
   "codemirror_mode": {
    "name": "ipython",
    "version": 3
   },
   "file_extension": ".py",
   "mimetype": "text/x-python",
   "name": "python",
   "nbconvert_exporter": "python",
   "pygments_lexer": "ipython3",
   "version": "3.10.11"
  }
 },
 "nbformat": 4,
 "nbformat_minor": 5
}
